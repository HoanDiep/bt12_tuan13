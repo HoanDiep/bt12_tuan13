{
  "nbformat": 4,
  "nbformat_minor": 0,
  "metadata": {
    "colab": {
      "provenance": [],
      "authorship_tag": "ABX9TyPlmblk8Ly+h9C0YgmDyZuR",
      "include_colab_link": true
    },
    "kernelspec": {
      "name": "python3",
      "display_name": "Python 3"
    },
    "language_info": {
      "name": "python"
    }
  },
  "cells": [
    {
      "cell_type": "markdown",
      "metadata": {
        "id": "view-in-github",
        "colab_type": "text"
      },
      "source": [
        "<a href=\"https://colab.research.google.com/github/HoanDiep/bt12_tuan13/blob/main/Untitled31.ipynb\" target=\"_parent\"><img src=\"https://colab.research.google.com/assets/colab-badge.svg\" alt=\"Open In Colab\"/></a>"
      ]
    },
    {
      "cell_type": "code",
      "execution_count": 1,
      "metadata": {
        "colab": {
          "base_uri": "https://localhost:8080/"
        },
        "id": "M3yeNygd5Z-z",
        "outputId": "3305858e-fac8-461a-8835-df17a1bc6ecc"
      },
      "outputs": [
        {
          "output_type": "stream",
          "name": "stdout",
          "text": [
            "Looking in indexes: https://pypi.org/simple, https://us-python.pkg.dev/colab-wheels/public/simple/\n",
            "Collecting youtube-search\n",
            "  Downloading youtube_search-2.1.2-py3-none-any.whl (3.4 kB)\n",
            "Requirement already satisfied: requests in /usr/local/lib/python3.9/dist-packages (from youtube-search) (2.27.1)\n",
            "Requirement already satisfied: charset-normalizer~=2.0.0 in /usr/local/lib/python3.9/dist-packages (from requests->youtube-search) (2.0.12)\n",
            "Requirement already satisfied: certifi>=2017.4.17 in /usr/local/lib/python3.9/dist-packages (from requests->youtube-search) (2022.12.7)\n",
            "Requirement already satisfied: idna<4,>=2.5 in /usr/local/lib/python3.9/dist-packages (from requests->youtube-search) (3.4)\n",
            "Requirement already satisfied: urllib3<1.27,>=1.21.1 in /usr/local/lib/python3.9/dist-packages (from requests->youtube-search) (1.26.15)\n",
            "Installing collected packages: youtube-search\n",
            "Successfully installed youtube-search-2.1.2\n"
          ]
        }
      ],
      "source": [
        "pip install youtube-search"
      ]
    },
    {
      "cell_type": "code",
      "source": [
        "from youtube_search import YoutubeSearch\n",
        "import webbrowser\n",
        "mysong=input('Nhap ten bai hat')\n",
        "result= YoutubeSearch(mysong,max_results=10).to_dict()\n",
        "print(result)"
      ],
      "metadata": {
        "colab": {
          "base_uri": "https://localhost:8080/"
        },
        "id": "3KqV81mU5ho3",
        "outputId": "c4963470-cc39-4cd5-d87e-ac1266d42d2f"
      },
      "execution_count": 4,
      "outputs": [
        {
          "output_type": "stream",
          "name": "stdout",
          "text": [
            "Nhap ten bai hatam tham ben em\n",
            "[{'id': '30KI5SuECuc', 'thumbnails': ['https://i.ytimg.com/vi/30KI5SuECuc/hqdefault.jpg?sqp=-oaymwEjCOADEI4CSFryq4qpAxUIARUAAAAAGAElAADIQj0AgKJDeAE=&rs=AOn4CLCd2TvpJnxYcRaj64-dT25GkscQoQ'], 'title': 'Âm Thầm Bên Em | OFFICIAL MUSIC VIDEO | Sơn Tùng M-TP', 'long_desc': None, 'channel': 'Sơn Tùng M-TP Official', 'duration': '14:10', 'views': '135,004,137 views', 'publish_time': '7 years ago', 'url_suffix': '/watch?v=30KI5SuECuc&pp=ygUOYW0gdGhhbSBiZW4gZW0%3D'}, {'id': 'bTwQe2apZPk', 'thumbnails': ['https://i.ytimg.com/vi/bTwQe2apZPk/hq720.jpg?sqp=-oaymwE9COgCEMoBSFryq4qpAy8IARUAAAAAGAElAADIQj0AgKJDeAHwAQH4Af4JgALQBYoCDAgAEAEYZSBlKGUwDw==&rs=AOn4CLCkY4HeCpHGzfcUtP2AcaXojJHeAg', 'https://i.ytimg.com/vi/bTwQe2apZPk/hq720.jpg?sqp=-oaymwExCNAFEJQDSFryq4qpAyMIARUAAIhCGAHwAQH4Af4JgALQBYoCDAgAEAEYZSBlKGUwDw==&rs=AOn4CLCdr_1jqwtGxqUBcCjZ5OvEv1-G0w'], 'title': 'Âm Thầm Bên Em (Lofi Ver. By Besu) - Sơn Tùng M-TP | Khi bên anh em thấy điều chi...', 'long_desc': None, 'channel': '𝘿𝙖 𝙡𝙤 𝙮𝙚𝙪 𝙚𝙢.', 'duration': '4:01', 'views': '9,203,753 views', 'publish_time': '1 year ago', 'url_suffix': '/watch?v=bTwQe2apZPk&pp=ygUOYW0gdGhhbSBiZW4gZW0%3D'}, {'id': 'z-gqQjP_9QY', 'thumbnails': ['https://i.ytimg.com/vi/z-gqQjP_9QY/hq720.jpg?sqp=-oaymwE9COgCEMoBSFryq4qpAy8IARUAAAAAGAElAADIQj0AgKJDeAHwAQH4Ac4FgAKiB4oCDAgAEAEYUiBCKHIwDw==&rs=AOn4CLDquNULrznx1CJX1jm8-iP9Cc4f9Q', 'https://i.ytimg.com/vi/z-gqQjP_9QY/hq720.jpg?sqp=-oaymwExCNAFEJQDSFryq4qpAyMIARUAAIhCGAHwAQH4Ac4FgAKiB4oCDAgAEAEYUiBCKHIwDw==&rs=AOn4CLBfx0rehaUGKJiqnyNCHp1Ecg3baA'], 'title': 'Sơn Tùng M-TP - Âm Thầm Bên Em ( Lyric )', 'long_desc': None, 'channel': 'Silently With You', 'duration': '4:04', 'views': '326,652 views', 'publish_time': '1 year ago', 'url_suffix': '/watch?v=z-gqQjP_9QY&pp=ygUOYW0gdGhhbSBiZW4gZW0%3D'}, {'id': 'Hvk90eZ383w', 'thumbnails': ['https://i.ytimg.com/vi/Hvk90eZ383w/hq720.jpg?sqp=-oaymwEjCOgCEMoBSFryq4qpAxUIARUAAAAAGAElAADIQj0AgKJDeAE=&rs=AOn4CLCLEN2ZCyxOu6E9vF1elfQT5rs-kA', 'https://i.ytimg.com/vi/Hvk90eZ383w/hq720.jpg?sqp=-oaymwEXCNAFEJQDSFryq4qpAwkIARUAAIhCGAE=&rs=AOn4CLC11Y19ExMK-uqTNeOlIKrkcIwjDg'], 'title': 'Âm Thầm Bên Em    Những Ca Khúc Hay Nhất Của Sơn Tùng   MTP 2015', 'long_desc': None, 'channel': 'trieu nguyen', 'duration': '1:13:14', 'views': '60,818 views', 'publish_time': '7 years ago', 'url_suffix': '/watch?v=Hvk90eZ383w&pp=ygUOYW0gdGhhbSBiZW4gZW0%3D'}, {'id': 'PdbsnGuduvo', 'thumbnails': ['https://i.ytimg.com/vi/PdbsnGuduvo/hqdefault.jpg?sqp=-oaymwEjCOADEI4CSFryq4qpAxUIARUAAAAAGAElAADIQj0AgKJDeAE=&rs=AOn4CLB7F9HmH924zBQVYWrCHUAIC8sDXg'], 'title': 'Sơn Tùng M-TP - Chắc Ai Đó Sẽ Về', 'long_desc': None, 'channel': 'Sơn Tùng M-TP Official', 'duration': '5:15', 'views': '39,500,350 views', 'publish_time': '8 years ago', 'url_suffix': '/watch?v=PdbsnGuduvo&pp=ygUOYW0gdGhhbSBiZW4gZW0%3D'}, {'id': 'vpiExyfoBiE', 'thumbnails': ['https://i.ytimg.com/vi/vpiExyfoBiE/hq720.jpg?sqp=-oaymwEjCOgCEMoBSFryq4qpAxUIARUAAAAAGAElAADIQj0AgKJDeAE=&rs=AOn4CLAQvRksIrTSLvmKZVC33hdev77m-g', 'https://i.ytimg.com/vi/vpiExyfoBiE/hq720.jpg?sqp=-oaymwEXCNAFEJQDSFryq4qpAwkIARUAAIhCGAE=&rs=AOn4CLAhDstCY3y0lHDNhKMpOXEi0AdkAg'], 'title': 'Âm thầm bên em [1 hour]', 'long_desc': None, 'channel': '🎶RD Chill🎶', 'duration': '1:00:10', 'views': '152,240 views', 'publish_time': '10 months ago', 'url_suffix': '/watch?v=vpiExyfoBiE&pp=ygUOYW0gdGhhbSBiZW4gZW0%3D'}, {'id': 'XAhYHdc516k', 'thumbnails': ['https://i.ytimg.com/vi/XAhYHdc516k/hq720.jpg?sqp=-oaymwEjCOgCEMoBSFryq4qpAxUIARUAAAAAGAElAADIQj0AgKJDeAE=&rs=AOn4CLA3C1CadRCa2NFG9Sj-UfTD1wOY7A', 'https://i.ytimg.com/vi/XAhYHdc516k/hq720.jpg?sqp=-oaymwEXCNAFEJQDSFryq4qpAwkIARUAAIhCGAE=&rs=AOn4CLBVmEijbNz41jHPGu1VUcGHi5G_sA'], 'title': 'Âm Thầm Bên Em (Lofi Ver.) - Sơn Tùng M-TP x Quanvrox', 'long_desc': None, 'channel': 'Quanvrox Music', 'duration': '3:53', 'views': '5,011,911 views', 'publish_time': '1 year ago', 'url_suffix': '/watch?v=XAhYHdc516k&pp=ygUOYW0gdGhhbSBiZW4gZW0%3D'}, {'id': 'bq6HaGhiYHY', 'thumbnails': ['https://i.ytimg.com/vi/bq6HaGhiYHY/hq720.jpg?sqp=-oaymwE9COgCEMoBSFryq4qpAy8IARUAAAAAGAElAADIQj0AgKJDeAHwAQH4AdQGgALgA4oCDAgAEAEYZSBhKFgwDw==&rs=AOn4CLArqxi_e_j1jugw5hE1RiqOdniPDg', 'https://i.ytimg.com/vi/bq6HaGhiYHY/hq720.jpg?sqp=-oaymwExCNAFEJQDSFryq4qpAyMIARUAAIhCGAHwAQH4AdQGgALgA4oCDAgAEAEYZSBhKFgwDw==&rs=AOn4CLBBUCMsUrPHgk_PQXPN48deaCfFBQ'], 'title': 'Nhạc Lofi Chill 8h Tối ~ Những Bản Lofi Cực Chill Của Sơn Tùng MTP Hay Nhất [Playlist Lofi]', 'long_desc': None, 'channel': 'Mưa Hạ', 'duration': '30:26', 'views': '726,350 views', 'publish_time': '1 year ago', 'url_suffix': '/watch?v=bq6HaGhiYHY&pp=ygUOYW0gdGhhbSBiZW4gZW0%3D'}, {'id': 'snK7fkgR58o', 'thumbnails': ['https://i.ytimg.com/vi/snK7fkgR58o/hq720.jpg?sqp=-oaymwE9COgCEMoBSFryq4qpAy8IARUAAAAAGAElAADIQj0AgKJDeAHwAQH4Af4JgALQBYoCDAgAEAEYfyAbKFgwDw==&rs=AOn4CLCiYjYbkrCWn2cFsLcHQI8NIX9oig', 'https://i.ytimg.com/vi/snK7fkgR58o/hq720.jpg?sqp=-oaymwExCNAFEJQDSFryq4qpAyMIARUAAIhCGAHwAQH4Af4JgALQBYoCDAgAEAEYfyAbKFgwDw==&rs=AOn4CLCLzd2L135Xhtux7xqZAudL_8xVCg'], 'title': 'Âm Thầm Bên Em | SƠN TÙNG M-TP x ANHDUC REMIX & MAZ MEDIA OFFICIAL', 'long_desc': None, 'channel': 'Maz Media Official', 'duration': '1:38', 'views': '4,785 views', 'publish_time': '2 weeks ago', 'url_suffix': '/watch?v=snK7fkgR58o&pp=ygUOYW0gdGhhbSBiZW4gZW0%3D'}, {'id': '3Dsoydw7tig', 'thumbnails': ['https://i.ytimg.com/vi/3Dsoydw7tig/hq720.jpg?sqp=-oaymwEjCOgCEMoBSFryq4qpAxUIARUAAAAAGAElAADIQj0AgKJDeAE=&rs=AOn4CLAoE7rWRQC5M-b5v3WRrWxAQjVotw', 'https://i.ytimg.com/vi/3Dsoydw7tig/hq720.jpg?sqp=-oaymwEXCNAFEJQDSFryq4qpAwkIARUAAIhCGAE=&rs=AOn4CLALrlqytLtdhkemJwLQm2a5SyTgBA'], 'title': 'Âm Thầm Bên Em | Phim Bộ Hay Nhất Lan Anh và Vi Nam SVM Studio', 'long_desc': None, 'channel': 'SVM Studio', 'duration': '54:38', 'views': '368,114 views', 'publish_time': '3 months ago', 'url_suffix': '/watch?v=3Dsoydw7tig&pp=ygUOYW0gdGhhbSBiZW4gZW0%3D'}]\n"
          ]
        }
      ]
    },
    {
      "cell_type": "code",
      "source": [
        "print(result[0]['url_suffix'])\n",
        "url='http://www.youtube.com'+result[0]['url_suffix']\n",
        "print(url)\n",
        "webbrowser.open(url)"
      ],
      "metadata": {
        "colab": {
          "base_uri": "https://localhost:8080/"
        },
        "id": "yp2N7WeA6hKk",
        "outputId": "bf3f232e-eeb8-47bd-8ac2-aae21b859f2c"
      },
      "execution_count": 7,
      "outputs": [
        {
          "output_type": "stream",
          "name": "stdout",
          "text": [
            "/watch?v=30KI5SuECuc&pp=ygUOYW0gdGhhbSBiZW4gZW0%3D\n",
            "http://www.youtube.com/watch?v=30KI5SuECuc&pp=ygUOYW0gdGhhbSBiZW4gZW0%3D\n"
          ]
        },
        {
          "output_type": "execute_result",
          "data": {
            "text/plain": [
              "False"
            ]
          },
          "metadata": {},
          "execution_count": 7
        }
      ]
    },
    {
      "cell_type": "code",
      "source": [
        "for i in range(10):\n",
        "  print(result[i]['url_suffix'])\n",
        "  url='http://www.youtube.com'+result[i]['url_suffix']\n",
        "  print(url)\n",
        "  webbrowser.open(url)"
      ],
      "metadata": {
        "colab": {
          "base_uri": "https://localhost:8080/"
        },
        "id": "rI03nHGq7nT9",
        "outputId": "482f85f8-5b88-45a8-973a-e0ee3b780b63"
      },
      "execution_count": 9,
      "outputs": [
        {
          "output_type": "stream",
          "name": "stdout",
          "text": [
            "/watch?v=30KI5SuECuc&pp=ygUOYW0gdGhhbSBiZW4gZW0%3D\n",
            "http://www.youtube.com/watch?v=30KI5SuECuc&pp=ygUOYW0gdGhhbSBiZW4gZW0%3D\n",
            "/watch?v=bTwQe2apZPk&pp=ygUOYW0gdGhhbSBiZW4gZW0%3D\n",
            "http://www.youtube.com/watch?v=bTwQe2apZPk&pp=ygUOYW0gdGhhbSBiZW4gZW0%3D\n",
            "/watch?v=z-gqQjP_9QY&pp=ygUOYW0gdGhhbSBiZW4gZW0%3D\n",
            "http://www.youtube.com/watch?v=z-gqQjP_9QY&pp=ygUOYW0gdGhhbSBiZW4gZW0%3D\n",
            "/watch?v=Hvk90eZ383w&pp=ygUOYW0gdGhhbSBiZW4gZW0%3D\n",
            "http://www.youtube.com/watch?v=Hvk90eZ383w&pp=ygUOYW0gdGhhbSBiZW4gZW0%3D\n",
            "/watch?v=PdbsnGuduvo&pp=ygUOYW0gdGhhbSBiZW4gZW0%3D\n",
            "http://www.youtube.com/watch?v=PdbsnGuduvo&pp=ygUOYW0gdGhhbSBiZW4gZW0%3D\n",
            "/watch?v=vpiExyfoBiE&pp=ygUOYW0gdGhhbSBiZW4gZW0%3D\n",
            "http://www.youtube.com/watch?v=vpiExyfoBiE&pp=ygUOYW0gdGhhbSBiZW4gZW0%3D\n",
            "/watch?v=XAhYHdc516k&pp=ygUOYW0gdGhhbSBiZW4gZW0%3D\n",
            "http://www.youtube.com/watch?v=XAhYHdc516k&pp=ygUOYW0gdGhhbSBiZW4gZW0%3D\n",
            "/watch?v=bq6HaGhiYHY&pp=ygUOYW0gdGhhbSBiZW4gZW0%3D\n",
            "http://www.youtube.com/watch?v=bq6HaGhiYHY&pp=ygUOYW0gdGhhbSBiZW4gZW0%3D\n",
            "/watch?v=snK7fkgR58o&pp=ygUOYW0gdGhhbSBiZW4gZW0%3D\n",
            "http://www.youtube.com/watch?v=snK7fkgR58o&pp=ygUOYW0gdGhhbSBiZW4gZW0%3D\n",
            "/watch?v=3Dsoydw7tig&pp=ygUOYW0gdGhhbSBiZW4gZW0%3D\n",
            "http://www.youtube.com/watch?v=3Dsoydw7tig&pp=ygUOYW0gdGhhbSBiZW4gZW0%3D\n"
          ]
        }
      ]
    },
    {
      "cell_type": "code",
      "source": [
        "pip install openpyxl"
      ],
      "metadata": {
        "colab": {
          "base_uri": "https://localhost:8080/"
        },
        "id": "vqQciPV08Coj",
        "outputId": "08f4340d-ce78-4e3c-bccf-b575ed1cb582"
      },
      "execution_count": 11,
      "outputs": [
        {
          "output_type": "stream",
          "name": "stdout",
          "text": [
            "Looking in indexes: https://pypi.org/simple, https://us-python.pkg.dev/colab-wheels/public/simple/\n",
            "Requirement already satisfied: openpyxl in /usr/local/lib/python3.9/dist-packages (3.0.10)\n",
            "Requirement already satisfied: et-xmlfile in /usr/local/lib/python3.9/dist-packages (from openpyxl) (1.1.0)\n"
          ]
        }
      ]
    },
    {
      "cell_type": "code",
      "source": [
        "from openpyxl import Workbook\n"
      ],
      "metadata": {
        "id": "zMdEFuZE8V96"
      },
      "execution_count": 12,
      "outputs": []
    },
    {
      "cell_type": "code",
      "source": [
        "import youtube_search\n",
        "data=Workbook()\n",
        "sheet=data.active\n",
        "mysong=input('moi chon bai hat: ')\n",
        "result=YoutubeSearch(mysong,max_results=10).to_dict()\n",
        "for i in range(10):\n",
        "  print(result[i]['title'])\n",
        "  print(result[i]['url_suffix'])\n",
        "  url='http://www.youtube.com'+result[i]['url_suffix']\n",
        "  print(url)\n",
        "  #sheet=data.active\n",
        "  sheet['A'+str(i+1)]=i+1\n",
        "  sheet['B'+str(i+1)]=result[i]['title']\n",
        "  sheet['C'+str(i+1)]=result[i]['url_suffix']\n",
        "  sheet['D'+str(i+1)]=result[i]['views']\n",
        "  sheet['E'+str(i+1)]=result[i]['duration']\n",
        "  sheet['F'+str(i+1)]=result[i]['publish_time']\n",
        "  sheet['G'+str(i+1)]=result[i]['channel']\n",
        "data.save('nhac.xlsx')"
      ],
      "metadata": {
        "colab": {
          "base_uri": "https://localhost:8080/"
        },
        "id": "w5NwttWC8qqP",
        "outputId": "e2e2e8f4-1b92-4314-ec65-a278d50d0198"
      },
      "execution_count": 22,
      "outputs": [
        {
          "output_type": "stream",
          "name": "stdout",
          "text": [
            "moi chon bai hat: am tham ben em\n",
            "Âm Thầm Bên Em | OFFICIAL MUSIC VIDEO | Sơn Tùng M-TP\n",
            "/watch?v=30KI5SuECuc&pp=ygUOYW0gdGhhbSBiZW4gZW0%3D\n",
            "http://www.youtube.com/watch?v=30KI5SuECuc&pp=ygUOYW0gdGhhbSBiZW4gZW0%3D\n",
            "Âm Thầm Bên Em (Lofi Ver. By Besu) - Sơn Tùng M-TP | Khi bên anh em thấy điều chi...\n",
            "/watch?v=bTwQe2apZPk&pp=ygUOYW0gdGhhbSBiZW4gZW0%3D\n",
            "http://www.youtube.com/watch?v=bTwQe2apZPk&pp=ygUOYW0gdGhhbSBiZW4gZW0%3D\n",
            "Âm thầm bên em [1 hour]\n",
            "/watch?v=vpiExyfoBiE&pp=ygUOYW0gdGhhbSBiZW4gZW0%3D\n",
            "http://www.youtube.com/watch?v=vpiExyfoBiE&pp=ygUOYW0gdGhhbSBiZW4gZW0%3D\n",
            "Sơn Tùng M-TP - Âm Thầm Bên Em ( Lyric )\n",
            "/watch?v=z-gqQjP_9QY&pp=ygUOYW0gdGhhbSBiZW4gZW0%3D\n",
            "http://www.youtube.com/watch?v=z-gqQjP_9QY&pp=ygUOYW0gdGhhbSBiZW4gZW0%3D\n",
            "Âm Thầm Bên Em    Những Ca Khúc Hay Nhất Của Sơn Tùng   MTP 2015\n",
            "/watch?v=Hvk90eZ383w&pp=ygUOYW0gdGhhbSBiZW4gZW0%3D\n",
            "http://www.youtube.com/watch?v=Hvk90eZ383w&pp=ygUOYW0gdGhhbSBiZW4gZW0%3D\n",
            "Sơn Tùng M-TP - Chắc Ai Đó Sẽ Về\n",
            "/watch?v=PdbsnGuduvo&pp=ygUOYW0gdGhhbSBiZW4gZW0%3D\n",
            "http://www.youtube.com/watch?v=PdbsnGuduvo&pp=ygUOYW0gdGhhbSBiZW4gZW0%3D\n",
            "Âm Thầm Bên Em (Lofi Ver.) - Sơn Tùng M-TP x Quanvrox\n",
            "/watch?v=XAhYHdc516k&pp=ygUOYW0gdGhhbSBiZW4gZW0%3D\n",
            "http://www.youtube.com/watch?v=XAhYHdc516k&pp=ygUOYW0gdGhhbSBiZW4gZW0%3D\n",
            "Nhạc Lofi Chill 8h Tối ~ Những Bản Lofi Cực Chill Của Sơn Tùng MTP Hay Nhất [Playlist Lofi]\n",
            "/watch?v=bq6HaGhiYHY&pp=ygUOYW0gdGhhbSBiZW4gZW0%3D\n",
            "http://www.youtube.com/watch?v=bq6HaGhiYHY&pp=ygUOYW0gdGhhbSBiZW4gZW0%3D\n",
            "Âm Thầm Bên Em | SƠN TÙNG M-TP x ANHDUC REMIX & MAZ MEDIA OFFICIAL\n",
            "/watch?v=snK7fkgR58o&pp=ygUOYW0gdGhhbSBiZW4gZW0%3D\n",
            "http://www.youtube.com/watch?v=snK7fkgR58o&pp=ygUOYW0gdGhhbSBiZW4gZW0%3D\n",
            "Âm Thầm Bên Em | Phim Bộ Hay Nhất Lan Anh và Vi Nam SVM Studio\n",
            "/watch?v=3Dsoydw7tig&pp=ygUOYW0gdGhhbSBiZW4gZW0%3D\n",
            "http://www.youtube.com/watch?v=3Dsoydw7tig&pp=ygUOYW0gdGhhbSBiZW4gZW0%3D\n"
          ]
        }
      ]
    },
    {
      "cell_type": "code",
      "source": [
        "pip install SpeechRecognition pydub"
      ],
      "metadata": {
        "colab": {
          "base_uri": "https://localhost:8080/"
        },
        "id": "jJfJTk-AAMRI",
        "outputId": "d4b880e0-d209-4203-d1e7-61ad53627b39"
      },
      "execution_count": 23,
      "outputs": [
        {
          "output_type": "stream",
          "name": "stdout",
          "text": [
            "Looking in indexes: https://pypi.org/simple, https://us-python.pkg.dev/colab-wheels/public/simple/\n",
            "Collecting SpeechRecognition\n",
            "  Downloading SpeechRecognition-3.10.0-py2.py3-none-any.whl (32.8 MB)\n",
            "\u001b[2K     \u001b[90m━━━━━━━━━━━━━━━━━━━━━━━━━━━━━━━━━━━━━━━━\u001b[0m \u001b[32m32.8/32.8 MB\u001b[0m \u001b[31m21.3 MB/s\u001b[0m eta \u001b[36m0:00:00\u001b[0m\n",
            "\u001b[?25hCollecting pydub\n",
            "  Downloading pydub-0.25.1-py2.py3-none-any.whl (32 kB)\n",
            "Requirement already satisfied: requests>=2.26.0 in /usr/local/lib/python3.9/dist-packages (from SpeechRecognition) (2.27.1)\n",
            "Requirement already satisfied: certifi>=2017.4.17 in /usr/local/lib/python3.9/dist-packages (from requests>=2.26.0->SpeechRecognition) (2022.12.7)\n",
            "Requirement already satisfied: idna<4,>=2.5 in /usr/local/lib/python3.9/dist-packages (from requests>=2.26.0->SpeechRecognition) (3.4)\n",
            "Requirement already satisfied: charset-normalizer~=2.0.0 in /usr/local/lib/python3.9/dist-packages (from requests>=2.26.0->SpeechRecognition) (2.0.12)\n",
            "Requirement already satisfied: urllib3<1.27,>=1.21.1 in /usr/local/lib/python3.9/dist-packages (from requests>=2.26.0->SpeechRecognition) (1.26.15)\n",
            "Installing collected packages: pydub, SpeechRecognition\n",
            "Successfully installed SpeechRecognition-3.10.0 pydub-0.25.1\n"
          ]
        }
      ]
    },
    {
      "cell_type": "code",
      "source": [
        "from google.colab import drive\n",
        "drive.mount('/content/drive')"
      ],
      "metadata": {
        "colab": {
          "base_uri": "https://localhost:8080/"
        },
        "id": "rBQdHK_DCZFw",
        "outputId": "4333298a-7b0d-4e2e-94c8-428e5049129f"
      },
      "execution_count": 24,
      "outputs": [
        {
          "output_type": "stream",
          "name": "stdout",
          "text": [
            "Mounted at /content/drive\n"
          ]
        }
      ]
    },
    {
      "cell_type": "code",
      "source": [
        "file = '/content/drive/My Drive/Colab Notebooks/male.wav'\n",
        "import speech_recognition as sr \n",
        "r=sr.Recognizer()\n",
        "with sr.AudioFile(file) as source:\n",
        "  audio_data=r.record(source)\n",
        "  text=r.recognize_google(audio_data)\n",
        "  print(text)"
      ],
      "metadata": {
        "colab": {
          "base_uri": "https://localhost:8080/"
        },
        "id": "aeX49gTwCfau",
        "outputId": "2e7ef0cf-a65a-405c-d5fe-769a6a80bb96"
      },
      "execution_count": 28,
      "outputs": [
        {
          "output_type": "stream",
          "name": "stdout",
          "text": [
            "what if somebody decides to break it be careful that you keep adequate coverage but look for places to save money baby it's taking longer to get things squared away than the bankers expected during the wife for once company may win her tax hated retirement income as helpful as our cost on the two naked bone when the title of this type of song is in question there's no dying or waxing or gassing needed maybe personalized leather hard place work on a flat surface and smooth out the simplest kind of separate system uses a single self-contained unit the old shop at it still holds a good mechanic is usually a bad boss both figures would go higher in later years doll houses at set\n"
          ]
        }
      ]
    },
    {
      "cell_type": "code",
      "source": [
        "file = '/content/drive/My Drive/Colab Notebooks/male.wav'\n",
        "import speech_recognition as sr \n",
        "r=sr.Recognizer()\n",
        "with sr.AudioFile(file) as source:\n",
        "  audio1=r.record(source,duration=4)\n",
        "  audio2=r.record(source,duration=10)\n",
        "  audio3=r.record(source,offset=4,duration=10)\n",
        "\n",
        "print(r.recognize_google(audio1))\n",
        "print(r.recognize_google(audio2))\n",
        "print(r.recognize_google(audio3))"
      ],
      "metadata": {
        "colab": {
          "base_uri": "https://localhost:8080/"
        },
        "id": "BeciewhXET4m",
        "outputId": "b4e74f7b-1914-4f1d-bd41-934c781b4b02"
      },
      "execution_count": 29,
      "outputs": [
        {
          "output_type": "stream",
          "name": "stdout",
          "text": [
            "what if somebody decides to break it be careful that you keep attic\n",
            "but look for places to save money baby it's taking longer to get things squared away than the bankers expected hiring the Y for one company may win her tie\n",
            "Elsa saving Rags are hers latest on the two naked bone into when the title of this type of song is in question there's no dying or waxing\n"
          ]
        }
      ]
    },
    {
      "cell_type": "code",
      "source": [
        "file = '/content/drive/My Drive/Colab Notebooks/hoithoaiNB.wav'\n",
        "import speech_recognition as sr\n",
        "r=sr.Recognizer()\n",
        "with sr.AudioFile(file) as source:\n",
        "  audio=r.record(source)\n",
        "r.recognize_google(audio,language='ja-JP')\n"
      ],
      "metadata": {
        "colab": {
          "base_uri": "https://localhost:8080/",
          "height": 35
        },
        "id": "hmP_yyYcFh7t",
        "outputId": "411f5798-13e9-4738-9343-3abee0301706"
      },
      "execution_count": 31,
      "outputs": [
        {
          "output_type": "execute_result",
          "data": {
            "text/plain": [
              "'女性 日本では 時間に遅れるのはだめだめ すみません'"
            ],
            "application/vnd.google.colaboratory.intrinsic+json": {
              "type": "string"
            }
          },
          "metadata": {},
          "execution_count": 31
        }
      ]
    },
    {
      "cell_type": "code",
      "source": [
        "file = '/content/drive/My Drive/Colab Notebooks/amthambenem.wav'\n",
        "import speech_recognition as sr\n",
        "r=sr.Recognizer()\n",
        "with sr.AudioFile(file) as source:\n",
        "  audio=r.record(source)\n",
        "r.recognize_google(audio,language='vi-VN')"
      ],
      "metadata": {
        "colab": {
          "base_uri": "https://localhost:8080/",
          "height": 35
        },
        "id": "ycQWH_zBHMQz",
        "outputId": "02de25ed-5ab0-4287-d0bf-2369d86b59df"
      },
      "execution_count": 36,
      "outputs": [
        {
          "output_type": "execute_result",
          "data": {
            "text/plain": [
              "'khi bên anh em thấy điều chi khi bên anh em thấy điều gì vẫn kể'"
            ],
            "application/vnd.google.colaboratory.intrinsic+json": {
              "type": "string"
            }
          },
          "metadata": {},
          "execution_count": 36
        }
      ]
    },
    {
      "cell_type": "code",
      "source": [
        "file = '/content/drive/My Drive/Colab Notebooks/ando.wav'\n",
        "import speech_recognition as sr\n",
        "r=sr.Recognizer()\n",
        "with sr.AudioFile(file) as source:\n",
        "  audio=r.record(source)\n",
        "r.recognize_google(audio,language='hi-IN')"
      ],
      "metadata": {
        "colab": {
          "base_uri": "https://localhost:8080/",
          "height": 35
        },
        "id": "4eGQ9cIqIhHC",
        "outputId": "998ef942-f64c-4c5d-fc08-3dd003dc4cfa"
      },
      "execution_count": 37,
      "outputs": [
        {
          "output_type": "execute_result",
          "data": {
            "text/plain": [
              "'भंडारी नींद आने वाली'"
            ],
            "application/vnd.google.colaboratory.intrinsic+json": {
              "type": "string"
            }
          },
          "metadata": {},
          "execution_count": 37
        }
      ]
    },
    {
      "cell_type": "code",
      "source": [
        "file = '/content/drive/My Drive/Colab Notebooks/hurt.wav'\n",
        "import speech_recognition as sr\n",
        "r=sr.Recognizer()\n",
        "with sr.AudioFile(file) as source:\n",
        "  audio=r.record(source)\n",
        "r.recognize_google(audio,language='ko-KR')"
      ],
      "metadata": {
        "colab": {
          "base_uri": "https://localhost:8080/",
          "height": 35
        },
        "id": "oqisNsM9JKgx",
        "outputId": "62e10c8e-a792-4801-f95b-6754796ebbaf"
      },
      "execution_count": 39,
      "outputs": [
        {
          "output_type": "execute_result",
          "data": {
            "text/plain": [
              "'보고 싶은 생각에 들어간 우리 창에 하는 말을 거는 오늘지는 하늘에 한마디보다 솔 미도 좋아 기다리고 있지만'"
            ],
            "application/vnd.google.colaboratory.intrinsic+json": {
              "type": "string"
            }
          },
          "metadata": {},
          "execution_count": 39
        }
      ]
    },
    {
      "cell_type": "code",
      "source": [
        "#TEXT to SPEECH\n"
      ],
      "metadata": {
        "id": "EPLuNIm5JfCf"
      },
      "execution_count": 42,
      "outputs": []
    },
    {
      "cell_type": "code",
      "source": [
        "pip install gTTS\n"
      ],
      "metadata": {
        "colab": {
          "base_uri": "https://localhost:8080/"
        },
        "id": "aSoGV4sjKIla",
        "outputId": "1c44c09f-c0bb-4063-985c-7f8dc8265f72"
      },
      "execution_count": 43,
      "outputs": [
        {
          "output_type": "stream",
          "name": "stdout",
          "text": [
            "Looking in indexes: https://pypi.org/simple, https://us-python.pkg.dev/colab-wheels/public/simple/\n",
            "Collecting gTTS\n",
            "  Downloading gTTS-2.3.1-py3-none-any.whl (28 kB)\n",
            "Requirement already satisfied: requests<3,>=2.27 in /usr/local/lib/python3.9/dist-packages (from gTTS) (2.27.1)\n",
            "Requirement already satisfied: click<8.2,>=7.1 in /usr/local/lib/python3.9/dist-packages (from gTTS) (8.1.3)\n",
            "Requirement already satisfied: certifi>=2017.4.17 in /usr/local/lib/python3.9/dist-packages (from requests<3,>=2.27->gTTS) (2022.12.7)\n",
            "Requirement already satisfied: urllib3<1.27,>=1.21.1 in /usr/local/lib/python3.9/dist-packages (from requests<3,>=2.27->gTTS) (1.26.15)\n",
            "Requirement already satisfied: idna<4,>=2.5 in /usr/local/lib/python3.9/dist-packages (from requests<3,>=2.27->gTTS) (3.4)\n",
            "Requirement already satisfied: charset-normalizer~=2.0.0 in /usr/local/lib/python3.9/dist-packages (from requests<3,>=2.27->gTTS) (2.0.12)\n",
            "Installing collected packages: gTTS\n",
            "Successfully installed gTTS-2.3.1\n"
          ]
        }
      ]
    },
    {
      "cell_type": "code",
      "source": [
        "from gtts import gTTS\n",
        "import os\n",
        "\n",
        "os.remove('anhiuem.mp3')\n",
        "A='xin chào'\n",
        "speak=gTTS(text=A,lang='vi',slow=False)\n",
        "speak.save('anhiuem.mp3')\n",
        "#from playsound import playsound\n",
        "#playsound('anhiuem.mp3')\n",
        "#os.remove('anhiuem.mp3')\n",
        "print('text')"
      ],
      "metadata": {
        "colab": {
          "base_uri": "https://localhost:8080/"
        },
        "id": "g_SMPY9AKJaz",
        "outputId": "a3f0094c-605d-453f-bcdd-36989cad3b78"
      },
      "execution_count": 53,
      "outputs": [
        {
          "output_type": "stream",
          "name": "stdout",
          "text": [
            "text\n"
          ]
        }
      ]
    },
    {
      "cell_type": "code",
      "source": [
        "from gtts import gTTS\n",
        "import os\n",
        "\n",
        "file = '/content/drive/My Drive/Colab Notebooks/hoithoaiTV.wav'\n",
        "import speech_recognition as sr \n",
        "r=sr.Recognizer()\n",
        "with sr.AudioFile(file) as source:\n",
        "  audio=r.record(source)\n",
        "text = r.recognize_google(audio,language='vi-VN')\n",
        "  \n",
        "os.remove('anhiuem.mp3')\n",
        "speak=gTTS(text=text,lang='vi',slow=False)\n",
        "speak.save('anhiuem.mp3')\n",
        "#from playsound import playsound\n",
        "#playsound('anhiuem.mp3')\n",
        "#os.remove('anhiuem.mp3')\n",
        "print(text)"
      ],
      "metadata": {
        "colab": {
          "base_uri": "https://localhost:8080/"
        },
        "id": "JeUHDuJhKUbl",
        "outputId": "033c6cb8-1cdc-437b-d8d1-2e7bd141482a"
      },
      "execution_count": 58,
      "outputs": [
        {
          "output_type": "stream",
          "name": "stdout",
          "text": [
            "chào lâu lên lâu lắm rồi mới gặp chị thì mới ở Việt Nam về em sắp tốt nghiệp chưa chưa Em còn 2 năm nữa em định sang Việt Nam học tiếng Việt của em chưa tốt lắm nên em muốn đến Hà Nội học một năm rồi về Mỹ học tiếp em nên đi ở đó 15 Chắc em sẽ tiến bộ nhiều Em chưa đi Việt Nam bao giờ thủ tục thế nào cho em xem mẫu đơn từ phức tạp lắm không đơn giản lắm em chỉ cần điền vào đơn xin học và đơn xin Visa thôi trong website có tất cả thông tin về các khóa học nữa em có thể chọn lớp thì tốt quá đã học ở đó một thời gian chương trình học ở đó thú thú vị lắm em sẽ xem và liên lạc ngay với việc phát triển ngôn ngữ cảm ơn chị nhiều\n"
          ]
        }
      ]
    },
    {
      "cell_type": "code",
      "source": [
        "from gtts import gTTS\n",
        "import os\n",
        "\n",
        "file = '/content/drive/My Drive/Colab Notebooks/ando.wav'\n",
        "import speech_recognition as sr \n",
        "r=sr.Recognizer()\n",
        "with sr.AudioFile(file) as source:\n",
        "  audio=r.record(source)\n",
        "text = r.recognize_google(audio,language='bn-IN')\n",
        "  \n",
        "os.remove('anhiuem.mp3')\n",
        "speak=gTTS(text=text,lang='bn',slow=False)\n",
        "speak.save('anhiuem.mp3')\n",
        "#from playsound import playsound\n",
        "#playsound('anhiuem.mp3')\n",
        "#os.remove('anhiuem.mp3')\n",
        "print(text)"
      ],
      "metadata": {
        "colab": {
          "base_uri": "https://localhost:8080/"
        },
        "id": "HO51ropQPk8Z",
        "outputId": "ee900c5c-d83e-4b64-e944-00d0cfdbde2b"
      },
      "execution_count": 60,
      "outputs": [
        {
          "output_type": "stream",
          "name": "stdout",
          "text": [
            "নারিন্ডা ৃৃৃৃৃৃৃৃৃৃৃৃ\n"
          ]
        }
      ]
    },
    {
      "cell_type": "code",
      "source": [
        "from gtts import gTTS\n",
        "import os\n",
        "\n",
        "file = '/content/drive/My Drive/Colab Notebooks/hurt.wav'\n",
        "import speech_recognition as sr \n",
        "r=sr.Recognizer()\n",
        "with sr.AudioFile(file) as source:\n",
        "  audio=r.record(source)\n",
        "text = r.recognize_google(audio,language='ko-KR')\n",
        "  \n",
        "os.remove('anhiuem.mp3')\n",
        "speak=gTTS(text=text,lang='ko',slow=False)\n",
        "speak.save('anhiuem.mp3')\n",
        "#from playsound import playsound\n",
        "#playsound('anhiuem.mp3')\n",
        "#os.remove('anhiuem.mp3')\n",
        "print(text)"
      ],
      "metadata": {
        "colab": {
          "base_uri": "https://localhost:8080/"
        },
        "id": "DuuLuWduQYdy",
        "outputId": "c4a92f8c-5e55-4f90-936e-0debe9f514ee"
      },
      "execution_count": 61,
      "outputs": [
        {
          "output_type": "stream",
          "name": "stdout",
          "text": [
            "보고 싶은 생각에 들어간 우리 창에 하는 말을 거는 오늘지는 하늘에 한마디보다 솔 미도 좋아 기다리고 있지만\n"
          ]
        }
      ]
    },
    {
      "cell_type": "code",
      "source": [
        "pip install googletrans==3.1.0a0"
      ],
      "metadata": {
        "colab": {
          "base_uri": "https://localhost:8080/",
          "height": 957
        },
        "id": "uJsr02SVRYfj",
        "outputId": "c5bc0eb5-122b-4671-9390-a08db2fe8c27"
      },
      "execution_count": 63,
      "outputs": [
        {
          "output_type": "stream",
          "name": "stdout",
          "text": [
            "Looking in indexes: https://pypi.org/simple, https://us-python.pkg.dev/colab-wheels/public/simple/\n",
            "Collecting googletrans==3.1.0a0\n",
            "  Downloading googletrans-3.1.0a0.tar.gz (19 kB)\n",
            "  Preparing metadata (setup.py) ... \u001b[?25l\u001b[?25hdone\n",
            "Collecting httpx==0.13.3\n",
            "  Downloading httpx-0.13.3-py3-none-any.whl (55 kB)\n",
            "\u001b[2K     \u001b[90m━━━━━━━━━━━━━━━━━━━━━━━━━━━━━━━━━━━━━━━━\u001b[0m \u001b[32m55.1/55.1 kB\u001b[0m \u001b[31m2.9 MB/s\u001b[0m eta \u001b[36m0:00:00\u001b[0m\n",
            "\u001b[?25hCollecting httpcore==0.9.*\n",
            "  Downloading httpcore-0.9.1-py3-none-any.whl (42 kB)\n",
            "\u001b[2K     \u001b[90m━━━━━━━━━━━━━━━━━━━━━━━━━━━━━━━━━━━━━━━━\u001b[0m \u001b[32m42.6/42.6 kB\u001b[0m \u001b[31m4.8 MB/s\u001b[0m eta \u001b[36m0:00:00\u001b[0m\n",
            "\u001b[?25hCollecting chardet==3.*\n",
            "  Downloading chardet-3.0.4-py2.py3-none-any.whl (133 kB)\n",
            "\u001b[2K     \u001b[90m━━━━━━━━━━━━━━━━━━━━━━━━━━━━━━━━━━━━━━━\u001b[0m \u001b[32m133.4/133.4 kB\u001b[0m \u001b[31m8.8 MB/s\u001b[0m eta \u001b[36m0:00:00\u001b[0m\n",
            "\u001b[?25hCollecting hstspreload\n",
            "  Downloading hstspreload-2023.1.1-py3-none-any.whl (1.5 MB)\n",
            "\u001b[2K     \u001b[90m━━━━━━━━━━━━━━━━━━━━━━━━━━━━━━━━━━━━━━━━\u001b[0m \u001b[32m1.5/1.5 MB\u001b[0m \u001b[31m38.7 MB/s\u001b[0m eta \u001b[36m0:00:00\u001b[0m\n",
            "\u001b[?25hRequirement already satisfied: certifi in /usr/local/lib/python3.9/dist-packages (from httpx==0.13.3->googletrans==3.1.0a0) (2022.12.7)\n",
            "Requirement already satisfied: sniffio in /usr/local/lib/python3.9/dist-packages (from httpx==0.13.3->googletrans==3.1.0a0) (1.3.0)\n",
            "Collecting rfc3986<2,>=1.3\n",
            "  Downloading rfc3986-1.5.0-py2.py3-none-any.whl (31 kB)\n",
            "Collecting idna==2.*\n",
            "  Downloading idna-2.10-py2.py3-none-any.whl (58 kB)\n",
            "\u001b[2K     \u001b[90m━━━━━━━━━━━━━━━━━━━━━━━━━━━━━━━━━━━━━━━━\u001b[0m \u001b[32m58.8/58.8 kB\u001b[0m \u001b[31m5.8 MB/s\u001b[0m eta \u001b[36m0:00:00\u001b[0m\n",
            "\u001b[?25hCollecting h2==3.*\n",
            "  Downloading h2-3.2.0-py2.py3-none-any.whl (65 kB)\n",
            "\u001b[2K     \u001b[90m━━━━━━━━━━━━━━━━━━━━━━━━━━━━━━━━━━━━━━━━\u001b[0m \u001b[32m65.0/65.0 kB\u001b[0m \u001b[31m6.1 MB/s\u001b[0m eta \u001b[36m0:00:00\u001b[0m\n",
            "\u001b[?25hCollecting h11<0.10,>=0.8\n",
            "  Downloading h11-0.9.0-py2.py3-none-any.whl (53 kB)\n",
            "\u001b[2K     \u001b[90m━━━━━━━━━━━━━━━━━━━━━━━━━━━━━━━━━━━━━━━━\u001b[0m \u001b[32m53.6/53.6 kB\u001b[0m \u001b[31m5.1 MB/s\u001b[0m eta \u001b[36m0:00:00\u001b[0m\n",
            "\u001b[?25hCollecting hpack<4,>=3.0\n",
            "  Downloading hpack-3.0.0-py2.py3-none-any.whl (38 kB)\n",
            "Collecting hyperframe<6,>=5.2.0\n",
            "  Downloading hyperframe-5.2.0-py2.py3-none-any.whl (12 kB)\n",
            "Building wheels for collected packages: googletrans\n",
            "  Building wheel for googletrans (setup.py) ... \u001b[?25l\u001b[?25hdone\n",
            "  Created wheel for googletrans: filename=googletrans-3.1.0a0-py3-none-any.whl size=16368 sha256=12d781506eb194f867bcc3724bb91bede7c841312c240d6939283c1f318e4b25\n",
            "  Stored in directory: /root/.cache/pip/wheels/ae/e1/6c/5137bc3f35aa130deea71575e165cc4f4f0680a88f3d90a636\n",
            "Successfully built googletrans\n",
            "Installing collected packages: rfc3986, hyperframe, hpack, h11, chardet, idna, hstspreload, h2, httpcore, httpx, googletrans\n",
            "  Attempting uninstall: chardet\n",
            "    Found existing installation: chardet 4.0.0\n",
            "    Uninstalling chardet-4.0.0:\n",
            "      Successfully uninstalled chardet-4.0.0\n",
            "  Attempting uninstall: idna\n",
            "    Found existing installation: idna 3.4\n",
            "    Uninstalling idna-3.4:\n",
            "      Successfully uninstalled idna-3.4\n",
            "Successfully installed chardet-3.0.4 googletrans-3.1.0a0 h11-0.9.0 h2-3.2.0 hpack-3.0.0 hstspreload-2023.1.1 httpcore-0.9.1 httpx-0.13.3 hyperframe-5.2.0 idna-2.10 rfc3986-1.5.0\n"
          ]
        },
        {
          "output_type": "display_data",
          "data": {
            "application/vnd.colab-display-data+json": {
              "pip_warning": {
                "packages": [
                  "chardet",
                  "idna"
                ]
              }
            }
          },
          "metadata": {}
        }
      ]
    },
    {
      "cell_type": "code",
      "source": [
        "from googletrans import Translator\n",
        "translator = Translator()\n",
        "translator = translator.translate('này cô bé ơi chậm chậm thôi chớ bước đi nhanh',dest='en')\n",
        "print(translator.text)\n",
        "os.remove('anhiuem.mp3')\n",
        "speak=gTTS(text=translator.text,lang='en',slow=False)\n",
        "speak.save('anhiuem.mp3')"
      ],
      "metadata": {
        "colab": {
          "base_uri": "https://localhost:8080/"
        },
        "id": "dheB_dStRpBx",
        "outputId": "db8c7201-3de3-4643-e073-83534ca7814d"
      },
      "execution_count": 71,
      "outputs": [
        {
          "output_type": "stream",
          "name": "stdout",
          "text": [
            "Hey little girl, slow down, don't walk fast\n"
          ]
        }
      ]
    },
    {
      "cell_type": "code",
      "source": [
        "#wave=>text=>translate=>speech=>mp3"
      ],
      "metadata": {
        "id": "zyyjdCAXSY9e"
      },
      "execution_count": null,
      "outputs": []
    },
    {
      "cell_type": "code",
      "source": [
        "from gtts import gTTS\n",
        "import os\n",
        "from googletrans import Translator\n",
        "from google.colab import drive\n",
        "drive.mount('/content/drive')\n",
        "\n",
        "file = '/content/drive/My Drive/Colab Notebooks/hoithoaiTV.wav'\n",
        "import speech_recognition as sr \n",
        "r=sr.Recognizer()\n",
        "with sr.AudioFile(file) as source:\n",
        "  audio=r.record(source)\n",
        "text = r.recognize_google(audio,language='vi-VN')\n",
        "\n",
        "translator = Translator()\n",
        "translator = translator.translate(text,dest='en')\n",
        "print(translator.text)\n",
        "\n",
        "os.remove('anhiuem.mp3')\n",
        "speak=gTTS(text=translator.text,lang='en',slow=False)\n",
        "speak.save('anhiuem.mp3')\n",
        "\n"
      ],
      "metadata": {
        "colab": {
          "base_uri": "https://localhost:8080/"
        },
        "id": "r2BVwA1CTQOR",
        "outputId": "481afad8-9037-4fea-c006-6734299b5c58"
      },
      "execution_count": 73,
      "outputs": [
        {
          "output_type": "stream",
          "name": "stdout",
          "text": [
            "Hello, it's been a long time since I've seen you, I've only just come back from Vietnam. Have you graduated yet? America continues to study, I should go there 15 I'm sure I'll improve a lot I've never been to Vietnam, what is the procedure, show me the application form, it's very complicated, it's not very simple, I just need to fill in the application form and the application form Visa only in the website has all the information about other courses I can choose a class, it's good to have studied there for a while the program there is very interesting I will see and contact the language development Thank you very much\n"
          ]
        }
      ]
    },
    {
      "cell_type": "code",
      "source": [
        "#audio => frequency=> detected instrument\n",
        "#MFCC"
      ],
      "metadata": {
        "id": "jjZ8HeUgYToF"
      },
      "execution_count": null,
      "outputs": []
    },
    {
      "cell_type": "code",
      "source": [
        "pip install python_speech_features"
      ],
      "metadata": {
        "colab": {
          "base_uri": "https://localhost:8080/"
        },
        "id": "xFSAzK7_bvUq",
        "outputId": "c5581d0a-ab18-4742-e38d-43f556ec1979"
      },
      "execution_count": 75,
      "outputs": [
        {
          "output_type": "stream",
          "name": "stdout",
          "text": [
            "Looking in indexes: https://pypi.org/simple, https://us-python.pkg.dev/colab-wheels/public/simple/\n",
            "Collecting python_speech_features\n",
            "  Downloading python_speech_features-0.6.tar.gz (5.6 kB)\n",
            "  Preparing metadata (setup.py) ... \u001b[?25l\u001b[?25hdone\n",
            "Building wheels for collected packages: python_speech_features\n",
            "  Building wheel for python_speech_features (setup.py) ... \u001b[?25l\u001b[?25hdone\n",
            "  Created wheel for python_speech_features: filename=python_speech_features-0.6-py3-none-any.whl size=5886 sha256=423f9c127f26ce46a19b682312e693c1538ba35fb5bdae9afb94626ebff400ce\n",
            "  Stored in directory: /root/.cache/pip/wheels/09/a1/04/08e2688d2562d8f9ff89e77c6ddfbf7268e07dae1a6f22455e\n",
            "Successfully built python_speech_features\n",
            "Installing collected packages: python_speech_features\n",
            "Successfully installed python_speech_features-0.6\n"
          ]
        }
      ]
    },
    {
      "cell_type": "code",
      "source": [
        "import numpy as np\n",
        "import matplotlib.pyplot as plt\n",
        "from scipy.io import wavfile\n",
        "from python_speech_features import mfcc,logfbank\n",
        "\n",
        "frequency_sample, audio_signal=wavfile.read('guitar.wav')\n",
        "audio_signal = audio_signal[:1500]\n",
        "feature_mfcc = mfcc(audio_signal,frequency_sample)\n",
        "print('\\nMFCC:\\nNumber of windows=',feature_mfcc.shape[0])\n",
        "print('length of each features=', feature_mfcc.shape[1])\n",
        "\n",
        "feature_mfcc = feature_mfcc.T\n",
        "plt.matshow(feature_mfcc)\n",
        "plt.title('MFCC')\n"
      ],
      "metadata": {
        "colab": {
          "base_uri": "https://localhost:8080/",
          "height": 863
        },
        "id": "IF0McOxkYmOl",
        "outputId": "0335d98a-861d-4535-9e7f-ff2fd99661c6"
      },
      "execution_count": 78,
      "outputs": [
        {
          "output_type": "stream",
          "name": "stderr",
          "text": [
            "WARNING:root:frame length (1103) is greater than FFT size (512), frame will be truncated. Increase NFFT to avoid.\n"
          ]
        },
        {
          "output_type": "stream",
          "name": "stdout",
          "text": [
            "\n",
            "MFCC:\n",
            "Number of windows= 6\n",
            "length of each features= 13\n"
          ]
        },
        {
          "output_type": "execute_result",
          "data": {
            "text/plain": [
              "Text(0.5, 1.0, 'MFCC')"
            ]
          },
          "metadata": {},
          "execution_count": 78
        },
        {
          "output_type": "display_data",
          "data": {
            "text/plain": [
              "<Figure size 400x866.667 with 1 Axes>"
            ],
            "image/png": "[encoded data removed]"
          },
          "metadata": {}
        }
      ]
    },
    {
      "cell_type": "code",
      "source": [
        "filterbank_feature = logfbank(audio_signal,frequency_sample)\n",
        "print('\\nFilter bank: \\nNumber of windows:',filterbank_feature.shape[0])\n",
        "print('\\nlength of each feature:',filterbank_feature.shape[1])\n",
        "filterbank_feature = filterbank_feature.T\n",
        "plt.matshow(filterbank_feature)\n",
        "plt.title('filter bank')\n",
        "plt.show()"
      ],
      "metadata": {
        "colab": {
          "base_uri": "https://localhost:8080/",
          "height": 1000
        },
        "id": "qENpLCxhb2ob",
        "outputId": "3f0f2701-718b-4f68-b71c-c4ce0fe18e64"
      },
      "execution_count": 80,
      "outputs": [
        {
          "output_type": "stream",
          "name": "stderr",
          "text": [
            "WARNING:root:frame length (1103) is greater than FFT size (512), frame will be truncated. Increase NFFT to avoid.\n"
          ]
        },
        {
          "output_type": "stream",
          "name": "stdout",
          "text": [
            "\n",
            "Filter bank: \n",
            "Number of windows: 6\n",
            "\n",
            "length of each feature: 26\n"
          ]
        },
        {
          "output_type": "display_data",
          "data": {
            "text/plain": [
              "<Figure size 400x1600 with 1 Axes>"
            ],
            "image/png": "[encoded data removed]"
          },
          "metadata": {}
        }
      ]
    },
    {
      "cell_type": "code",
      "source": [
        "import numpy as np\n",
        "import matplotlib.pyplot as plt\n",
        "from scipy.io import wavfile\n",
        "from python_speech_features import mfcc,logfbank\n",
        "\n",
        "frequency_sample, audio_signal=wavfile.read('gagay.wav')\n",
        "audio_signal = audio_signal[:1500]\n",
        "feature_mfcc = mfcc(audio_signal,frequency_sample)\n",
        "print('\\nMFCC:\\nNumber of windows=',feature_mfcc.shape[0])\n",
        "print('length of each features=', feature_mfcc.shape[1])\n",
        "\n",
        "feature_mfcc = feature_mfcc.T\n",
        "plt.matshow(feature_mfcc)\n",
        "plt.title('MFCC')"
      ],
      "metadata": {
        "colab": {
          "base_uri": "https://localhost:8080/",
          "height": 863
        },
        "id": "KTmcm8wncy3V",
        "outputId": "941e0880-4684-4b79-9c43-9ea6ca9fa48e"
      },
      "execution_count": 83,
      "outputs": [
        {
          "output_type": "stream",
          "name": "stderr",
          "text": [
            "WARNING:root:frame length (1103) is greater than FFT size (512), frame will be truncated. Increase NFFT to avoid.\n"
          ]
        },
        {
          "output_type": "stream",
          "name": "stdout",
          "text": [
            "\n",
            "MFCC:\n",
            "Number of windows= 6\n",
            "length of each features= 13\n"
          ]
        },
        {
          "output_type": "execute_result",
          "data": {
            "text/plain": [
              "Text(0.5, 1.0, 'MFCC')"
            ]
          },
          "metadata": {},
          "execution_count": 83
        },
        {
          "output_type": "display_data",
          "data": {
            "text/plain": [
              "<Figure size 400x866.667 with 1 Axes>"
            ],
            "image/png": "[encoded data removed]"
          },
          "metadata": {}
        }
      ]
    },
    {
      "cell_type": "code",
      "source": [
        "filterbank_feature = logfbank(audio_signal,frequency_sample)\n",
        "print('\\nFilter bank: \\nNumber of windows:',filterbank_feature.shape[0])\n",
        "print('\\nlength of each feature:',filterbank_feature.shape[1])\n",
        "filterbank_feature = filterbank_feature.T\n",
        "plt.matshow(filterbank_feature)\n",
        "plt.title('filter bank')\n",
        "plt.show()"
      ],
      "metadata": {
        "colab": {
          "base_uri": "https://localhost:8080/",
          "height": 1000
        },
        "id": "SBy1lVYRe96-",
        "outputId": "0618eb9e-e5bd-4a94-fc75-42689fb5ec34"
      },
      "execution_count": 84,
      "outputs": [
        {
          "output_type": "stream",
          "name": "stderr",
          "text": [
            "WARNING:root:frame length (1103) is greater than FFT size (512), frame will be truncated. Increase NFFT to avoid.\n"
          ]
        },
        {
          "output_type": "stream",
          "name": "stdout",
          "text": [
            "\n",
            "Filter bank: \n",
            "Number of windows: 6\n",
            "\n",
            "length of each feature: 26\n"
          ]
        },
        {
          "output_type": "display_data",
          "data": {
            "text/plain": [
              "<Figure size 400x1600 with 1 Axes>"
            ],
            "image/png": "[encoded data removed]"
          },
          "metadata": {}
        }
      ]
    },
    {
      "cell_type": "code",
      "source": [],
      "metadata": {
        "id": "7AEZ8D6-f2gk"
      },
      "execution_count": null,
      "outputs": []
    }
  ]
}